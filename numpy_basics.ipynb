{
 "cells": [
  {
   "cell_type": "markdown",
   "id": "3a073cb2",
   "metadata": {},
   "source": [
    "# Numpy fundamentals & refresher"
   ]
  },
  {
   "cell_type": "markdown",
   "id": "8c3afba4",
   "metadata": {},
   "source": [
    "## Vectors vs Matrices vs Arrays\n",
    "\n",
    "**Vectors:**  They are 1D arrays. Vectors are always 1 dimensional. <br>\n",
    "**Matrices:**  A matrix is a 2D array. All matrices are arrays but the opposite isn't true. <br>\n",
    "**Arrays:**  Arrays are n-dimensional."
   ]
  },
  {
   "cell_type": "code",
   "execution_count": 1,
   "id": "1c7daabf",
   "metadata": {},
   "outputs": [],
   "source": [
    "import numpy as np"
   ]
  },
  {
   "cell_type": "markdown",
   "id": "84b70827",
   "metadata": {},
   "source": [
    "#### Comparing numpy with python data structures like list"
   ]
  },
  {
   "cell_type": "code",
   "execution_count": 2,
   "id": "683de30f",
   "metadata": {},
   "outputs": [],
   "source": [
    "arr1 = list(range(1000000))\n",
    "arr2 = list(range(1000000, 2000000))"
   ]
  },
  {
   "cell_type": "code",
   "execution_count": 3,
   "id": "117a4e24",
   "metadata": {},
   "outputs": [],
   "source": [
    "def dot_product(arr1, arr2):\n",
    "    sum = 0\n",
    "    for a, b in zip(arr1, arr2):\n",
    "        sum += a * b\n",
    "    return sum"
   ]
  },
  {
   "cell_type": "code",
   "execution_count": 4,
   "id": "7877b067",
   "metadata": {},
   "outputs": [
    {
     "name": "stdout",
     "output_type": "stream",
     "text": [
      "Wall time: 282 ms\n"
     ]
    },
    {
     "data": {
      "text/plain": [
       "833332333333500000"
      ]
     },
     "execution_count": 4,
     "metadata": {},
     "output_type": "execute_result"
    }
   ],
   "source": [
    "%%time\n",
    "dot_product(arr1, arr2)"
   ]
  },
  {
   "cell_type": "code",
   "execution_count": 5,
   "id": "9b32fc5c",
   "metadata": {},
   "outputs": [],
   "source": [
    "# below we create numpy array by specifying dtype as int64 because  by default on a 64 bit machine, numpy create a integer of\n",
    "# 32 bit and it doesn't take care of integer overflow for large integers nd you would get incorrect answer\n",
    "\n",
    "# SO link - https://stackoverflow.com/questions/50671172/numpy-dot-giving-incorrect-answer-for-large-integers\n",
    "\n",
    "# To confirm execute below statement - \n",
    "# np.array([1, 2, 3]).dtype\n",
    "# If it returns dtype('int32') then specifying dtype is required else not needed\n",
    "\n",
    "np_arr1 = np.array(arr1, dtype=np.int64)\n",
    "np_arr2 = np.array(arr2, dtype=np.int64)"
   ]
  },
  {
   "cell_type": "markdown",
   "id": "bd273efe",
   "metadata": {},
   "source": [
    "### `np.dot` performs element wise multiplication"
   ]
  },
  {
   "cell_type": "code",
   "execution_count": 6,
   "id": "2171f09c",
   "metadata": {},
   "outputs": [
    {
     "name": "stdout",
     "output_type": "stream",
     "text": [
      "Wall time: 2.99 ms\n"
     ]
    },
    {
     "data": {
      "text/plain": [
       "833332333333500000"
      ]
     },
     "execution_count": 6,
     "metadata": {},
     "output_type": "execute_result"
    }
   ],
   "source": [
    "%%time\n",
    "np.dot(np_arr1, np_arr2)"
   ]
  },
  {
   "cell_type": "markdown",
   "id": "b6337f09",
   "metadata": {},
   "source": [
    "#### We can see that the time taken by list is quite more as compared to numpy arrays"
   ]
  },
  {
   "cell_type": "code",
   "execution_count": 7,
   "id": "8bf7c418",
   "metadata": {},
   "outputs": [
    {
     "name": "stdout",
     "output_type": "stream",
     "text": [
      "Wall time: 11 ms\n"
     ]
    },
    {
     "data": {
      "text/plain": [
       "833332333333500000"
      ]
     },
     "execution_count": 7,
     "metadata": {},
     "output_type": "execute_result"
    }
   ],
   "source": [
    "%%time\n",
    "(np_arr1 * np_arr2).sum()"
   ]
  },
  {
   "cell_type": "markdown",
   "id": "6b7a0f57",
   "metadata": {},
   "source": [
    "### The numpy array can store only a single type of data to make computation faster"
   ]
  },
  {
   "cell_type": "markdown",
   "id": "71b353b8",
   "metadata": {},
   "source": [
    "Suppose we have to calculate the final temperature of different cities and let us assume that it depends on 3 factors f1, f2, f3. We have 3 cities Pune, Mumbai and Bangalore, also these 3 factors have pre-defined weights w1, w2 and w3 which have fixed values."
   ]
  },
  {
   "cell_type": "code",
   "execution_count": 8,
   "id": "8d57dfdc",
   "metadata": {},
   "outputs": [],
   "source": [
    "w1, w2, w3 = 0.1, 0.2, 0.3"
   ]
  },
  {
   "cell_type": "code",
   "execution_count": 9,
   "id": "fefe9dbe",
   "metadata": {},
   "outputs": [],
   "source": [
    "pune = [10, 20, 30]\n",
    "mumbai = [11, 12, 13]\n",
    "bangalore = [12, 13, 14]"
   ]
  },
  {
   "cell_type": "code",
   "execution_count": 10,
   "id": "c9f079bf",
   "metadata": {},
   "outputs": [
    {
     "data": {
      "text/plain": [
       "14.0"
      ]
     },
     "execution_count": 10,
     "metadata": {},
     "output_type": "execute_result"
    }
   ],
   "source": [
    "pune_temp = pune[0] * w1 + pune[1] * w2 + pune[2] * w3 # similarly we calculate the rest\n",
    "pune_temp"
   ]
  },
  {
   "cell_type": "markdown",
   "id": "11126558",
   "metadata": {},
   "source": [
    "We can simplify this by using numpy arrays"
   ]
  },
  {
   "cell_type": "code",
   "execution_count": 11,
   "id": "19456e81",
   "metadata": {},
   "outputs": [],
   "source": [
    "w = [0.1, 0.2, 0.3]\n",
    "city_data = [pune, mumbai, bangalore]\n",
    "\n",
    "# Creating numpy arrays\n",
    "np_w = np.array(w)\n",
    "np_city_data = np.array(city_data)"
   ]
  },
  {
   "cell_type": "markdown",
   "id": "42e30a3c",
   "metadata": {},
   "source": [
    "#### We will use matrix multiplication to simplufy the process, using `np.matmul` reduces it to one line of code. We can also use `@` to perform matrix multiplication"
   ]
  },
  {
   "cell_type": "code",
   "execution_count": 12,
   "id": "84d6beb6",
   "metadata": {},
   "outputs": [
    {
     "data": {
      "text/plain": [
       "array([14. ,  7.4,  8. ])"
      ]
     },
     "execution_count": 12,
     "metadata": {},
     "output_type": "execute_result"
    }
   ],
   "source": [
    "np.matmul(np_city_data, np_w)"
   ]
  },
  {
   "cell_type": "code",
   "execution_count": 13,
   "id": "b0ffcf26",
   "metadata": {},
   "outputs": [
    {
     "data": {
      "text/plain": [
       "array([14. ,  7.4,  8. ])"
      ]
     },
     "execution_count": 13,
     "metadata": {},
     "output_type": "execute_result"
    }
   ],
   "source": [
    "np_city_data @ np_w"
   ]
  },
  {
   "cell_type": "markdown",
   "id": "4f2dc5b0",
   "metadata": {},
   "source": [
    "## Reading data from files"
   ]
  },
  {
   "cell_type": "code",
   "execution_count": 14,
   "id": "190cea2c",
   "metadata": {},
   "outputs": [
    {
     "data": {
      "text/plain": [
       "('climate.txt', <http.client.HTTPMessage at 0x184f33bf488>)"
      ]
     },
     "execution_count": 14,
     "metadata": {},
     "output_type": "execute_result"
    }
   ],
   "source": [
    "from urllib.request import urlretrieve\n",
    "\n",
    "# The file would to downloaded to pwd (present working directory)\n",
    "urlretrieve('https://hub.jovian.ml/wp-content/uploads/2020/08/climate.csv', 'climate.txt')"
   ]
  },
  {
   "cell_type": "code",
   "execution_count": 15,
   "id": "8ec24139",
   "metadata": {},
   "outputs": [],
   "source": [
    "np_climate_data = np.genfromtxt('climate.txt', delimiter=',', skip_header=1)"
   ]
  },
  {
   "cell_type": "code",
   "execution_count": 16,
   "id": "a05f9e76",
   "metadata": {},
   "outputs": [
    {
     "data": {
      "text/plain": [
       "(10000, 3)"
      ]
     },
     "execution_count": 16,
     "metadata": {},
     "output_type": "execute_result"
    }
   ],
   "source": [
    "np_climate_data.shape"
   ]
  },
  {
   "cell_type": "code",
   "execution_count": 17,
   "id": "f3bffabc",
   "metadata": {},
   "outputs": [
    {
     "data": {
      "text/plain": [
       "array([[25., 76., 99.],\n",
       "       [39., 65., 70.],\n",
       "       [59., 45., 77.],\n",
       "       [84., 63., 38.],\n",
       "       [66., 50., 52.]])"
      ]
     },
     "execution_count": 17,
     "metadata": {},
     "output_type": "execute_result"
    }
   ],
   "source": [
    "np_climate_data[:5]"
   ]
  },
  {
   "cell_type": "code",
   "execution_count": 18,
   "id": "01a6f037",
   "metadata": {},
   "outputs": [
    {
     "data": {
      "text/plain": [
       "(10000,)"
      ]
     },
     "execution_count": 18,
     "metadata": {},
     "output_type": "execute_result"
    }
   ],
   "source": [
    "np_temp_data = np.matmul(np_climate_data, np_w)\n",
    "np_temp_data.shape"
   ]
  },
  {
   "cell_type": "markdown",
   "id": "b3e9d0c7",
   "metadata": {},
   "source": [
    "Now we want to add temperature to the climate array and then finally save it to a file"
   ]
  },
  {
   "cell_type": "markdown",
   "id": "0a1e9992",
   "metadata": {},
   "source": [
    "### `np.concatenate` would concatenate multiple arrays but they need to have same number of dimensions and same length.\n",
    "In our below example we reshape the array so that it also has 2 dimensions + we ensure that it has same length as the other array."
   ]
  },
  {
   "cell_type": "code",
   "execution_count": 19,
   "id": "d52d3751",
   "metadata": {},
   "outputs": [],
   "source": [
    "# We do reshape(-1, 1) as we don't care about how many rows we have but we want to have just 1 column (a column array).\n",
    "# Here we need not specify the number of rows, it picks it up on its own.\n",
    "\n",
    "climate_val = np.concatenate((np_climate_data, np_temp_data.reshape(-1, 1)), axis=1)\n",
    "# np.concatenate((np_climate_data, np_temp_data.reshape(10000, 1)), axis=1)"
   ]
  },
  {
   "cell_type": "code",
   "execution_count": 20,
   "id": "53c4fc8f",
   "metadata": {},
   "outputs": [
    {
     "data": {
      "text/plain": [
       "(10000, 4)"
      ]
     },
     "execution_count": 20,
     "metadata": {},
     "output_type": "execute_result"
    }
   ],
   "source": [
    "climate_val.shape"
   ]
  },
  {
   "cell_type": "code",
   "execution_count": 21,
   "id": "b6a54b27",
   "metadata": {},
   "outputs": [],
   "source": [
    "np.savetxt('climate_value.txt', climate_val, fmt='%.2f', header='factor1, factor2, factor3, temperature')"
   ]
  },
  {
   "cell_type": "markdown",
   "id": "9378cfd4",
   "metadata": {},
   "source": [
    "## Arithmetic operations"
   ]
  },
  {
   "cell_type": "code",
   "execution_count": 22,
   "id": "48b425ce",
   "metadata": {},
   "outputs": [],
   "source": [
    "arith_arr1 = np.array([[1, 2, 3],\n",
    "                      [4, 5, 6],\n",
    "                      [6, 7, 8]])"
   ]
  },
  {
   "cell_type": "code",
   "execution_count": 23,
   "id": "868bd36a",
   "metadata": {},
   "outputs": [
    {
     "data": {
      "text/plain": [
       "array([[ 4,  5,  6],\n",
       "       [ 7,  8,  9],\n",
       "       [ 9, 10, 11]])"
      ]
     },
     "execution_count": 23,
     "metadata": {},
     "output_type": "execute_result"
    }
   ],
   "source": [
    "arith_arr1 + 3"
   ]
  },
  {
   "cell_type": "code",
   "execution_count": 24,
   "id": "89ba0a28",
   "metadata": {},
   "outputs": [],
   "source": [
    "arith_arr2 = np.array([[10, 11, 12],\n",
    "                       [13, 14, 15],\n",
    "                       [16, 17, 18]])"
   ]
  },
  {
   "cell_type": "code",
   "execution_count": 25,
   "id": "dddff656",
   "metadata": {},
   "outputs": [
    {
     "data": {
      "text/plain": [
       "array([[11, 13, 15],\n",
       "       [17, 19, 21],\n",
       "       [22, 24, 26]])"
      ]
     },
     "execution_count": 25,
     "metadata": {},
     "output_type": "execute_result"
    }
   ],
   "source": [
    "arith_arr1 + arith_arr2"
   ]
  },
  {
   "cell_type": "markdown",
   "id": "1945c232",
   "metadata": {},
   "source": [
    "Similarly we can do subtraction, multiplication, division, modulo etc"
   ]
  },
  {
   "cell_type": "code",
   "execution_count": 26,
   "id": "af3f296a",
   "metadata": {},
   "outputs": [],
   "source": [
    "x = np.arange(3)"
   ]
  },
  {
   "cell_type": "code",
   "execution_count": 27,
   "id": "3b28f8c4",
   "metadata": {},
   "outputs": [
    {
     "data": {
      "text/plain": [
       "array([0, 1, 2])"
      ]
     },
     "execution_count": 27,
     "metadata": {},
     "output_type": "execute_result"
    }
   ],
   "source": [
    "x"
   ]
  },
  {
   "cell_type": "code",
   "execution_count": 28,
   "id": "73faca61",
   "metadata": {},
   "outputs": [
    {
     "data": {
      "text/plain": [
       "(3,)"
      ]
     },
     "execution_count": 28,
     "metadata": {},
     "output_type": "execute_result"
    }
   ],
   "source": [
    "x.shape"
   ]
  },
  {
   "cell_type": "markdown",
   "id": "2ceb799c",
   "metadata": {},
   "source": [
    "### `np.newaxis` is a pusedo-index allows temporary addition of a new axis into an array, \n",
    "### a convinient alias for `None`\n",
    "\n"
   ]
  },
  {
   "cell_type": "code",
   "execution_count": 29,
   "id": "802c3ea0",
   "metadata": {},
   "outputs": [
    {
     "data": {
      "text/plain": [
       "array([[0],\n",
       "       [1],\n",
       "       [2]])"
      ]
     },
     "execution_count": 29,
     "metadata": {},
     "output_type": "execute_result"
    }
   ],
   "source": [
    "x[:, np.newaxis] # new column axis is added and hence shape of array is changed"
   ]
  },
  {
   "cell_type": "code",
   "execution_count": 30,
   "id": "9719ec40",
   "metadata": {},
   "outputs": [
    {
     "data": {
      "text/plain": [
       "array([[[0]],\n",
       "\n",
       "       [[1]],\n",
       "\n",
       "       [[2]]])"
      ]
     },
     "execution_count": 30,
     "metadata": {},
     "output_type": "execute_result"
    }
   ],
   "source": [
    "x[:, np.newaxis, np.newaxis].shape\n",
    "\n",
    "x[:, np.newaxis, np.newaxis]"
   ]
  },
  {
   "cell_type": "code",
   "execution_count": 31,
   "id": "9255cc4f",
   "metadata": {},
   "outputs": [
    {
     "data": {
      "text/plain": [
       "(3, 1)"
      ]
     },
     "execution_count": 31,
     "metadata": {},
     "output_type": "execute_result"
    }
   ],
   "source": [
    "x[:, None].shape # None can also be used in place of newaxis"
   ]
  },
  {
   "cell_type": "markdown",
   "id": "e19fbcbe",
   "metadata": {},
   "source": [
    "### `np.newaxis` vs `np.reshape`\n",
    "`np.newaxis` can also be used when you have more than 1 unknown dimension to operate with\n",
    "`np.arange(5)[:, np.newaxis, np.newaxis]` will work but `np.arange(5).reshape(-1, 1, -1)` will throw an error - `ValueError: can only specify one unknown dimension`"
   ]
  },
  {
   "cell_type": "code",
   "execution_count": 32,
   "id": "cc709860",
   "metadata": {},
   "outputs": [
    {
     "data": {
      "text/plain": [
       "array([[[0]],\n",
       "\n",
       "       [[1]],\n",
       "\n",
       "       [[2]],\n",
       "\n",
       "       [[3]],\n",
       "\n",
       "       [[4]]])"
      ]
     },
     "execution_count": 32,
     "metadata": {},
     "output_type": "execute_result"
    }
   ],
   "source": [
    "np.arange(5)[:, np.newaxis, np.newaxis]"
   ]
  },
  {
   "cell_type": "code",
   "execution_count": 33,
   "id": "d6e6f6cc",
   "metadata": {},
   "outputs": [
    {
     "ename": "ValueError",
     "evalue": "can only specify one unknown dimension",
     "output_type": "error",
     "traceback": [
      "\u001b[1;31m---------------------------------------------------------------------------\u001b[0m",
      "\u001b[1;31mValueError\u001b[0m                                Traceback (most recent call last)",
      "\u001b[1;32m~\\AppData\\Local\\Temp/ipykernel_23232/1167461579.py\u001b[0m in \u001b[0;36m<module>\u001b[1;34m\u001b[0m\n\u001b[1;32m----> 1\u001b[1;33m \u001b[0mnp\u001b[0m\u001b[1;33m.\u001b[0m\u001b[0marange\u001b[0m\u001b[1;33m(\u001b[0m\u001b[1;36m5\u001b[0m\u001b[1;33m)\u001b[0m\u001b[1;33m.\u001b[0m\u001b[0mreshape\u001b[0m\u001b[1;33m(\u001b[0m\u001b[1;33m-\u001b[0m\u001b[1;36m1\u001b[0m\u001b[1;33m,\u001b[0m \u001b[1;36m1\u001b[0m\u001b[1;33m,\u001b[0m \u001b[1;33m-\u001b[0m\u001b[1;36m1\u001b[0m\u001b[1;33m)\u001b[0m\u001b[1;33m\u001b[0m\u001b[1;33m\u001b[0m\u001b[0m\n\u001b[0m",
      "\u001b[1;31mValueError\u001b[0m: can only specify one unknown dimension"
     ]
    }
   ],
   "source": [
    "np.arange(5).reshape(-1, 1, -1)"
   ]
  },
  {
   "cell_type": "markdown",
   "id": "afaa96d6",
   "metadata": {},
   "source": [
    "### Broadcasting\n",
    "\n",
    "Numpy arrays support broadcasting which allows arithmetic operations to be performed on arrays with different but compatible dimensions.\n",
    "\n",
    "In broadcasting, the arrays are stretced conceptually when performing arithmetic operations but in actual they still hold the same amount of space."
   ]
  },
  {
   "cell_type": "code",
   "execution_count": null,
   "id": "67d8ba5b",
   "metadata": {},
   "outputs": [],
   "source": [
    "arr1 = np.arange(3)\n",
    "arr1"
   ]
  },
  {
   "cell_type": "code",
   "execution_count": null,
   "id": "ba8ce7dd",
   "metadata": {},
   "outputs": [],
   "source": [
    "arr1 + 5 # here the scalar is broadcasted so that it matches the shape of arr1, then the arithmetic operation is performed"
   ]
  },
  {
   "cell_type": "markdown",
   "id": "0af26b51",
   "metadata": {},
   "source": [
    "### Rules of Broadcasting\n",
    "Broadcasting in NumPy follows a strict set of rules to determine the interaction between the two arrays:\n",
    "\n",
    "**Rule 1**: If the two arrays differ in their number of dimensions, the shape of the one with fewer dimensions is padded with ones on its leading (left) side.\n",
    "\n",
    "**Rule 2**: If the shape of the two arrays does not match in any dimension, the array with shape equal to 1 in that dimension is stretched to match the other shape.\n",
    "\n",
    "**Rule 3**: If in any dimension the sizes disagree and neither is equal to 1, an error is raised.\n",
    "\n",
    "Ref. - https://jakevdp.github.io/PythonDataScienceHandbook/02.05-computation-on-arrays-broadcasting.html"
   ]
  },
  {
   "cell_type": "code",
   "execution_count": null,
   "id": "110390b7",
   "metadata": {},
   "outputs": [],
   "source": [
    "arr1.shape"
   ]
  },
  {
   "cell_type": "code",
   "execution_count": null,
   "id": "f9984d39",
   "metadata": {
    "scrolled": true
   },
   "outputs": [],
   "source": [
    "arr2 = np.ones((1, 3), dtype=np.int64)\n",
    "arr2.shape"
   ]
  },
  {
   "cell_type": "code",
   "execution_count": null,
   "id": "d361519c",
   "metadata": {},
   "outputs": [],
   "source": [
    "arr2"
   ]
  },
  {
   "cell_type": "markdown",
   "id": "0327449e",
   "metadata": {},
   "source": [
    "#### As per rule 1, the dimensions donot match hence a new dimension is added (1 is padded) to the left of the array with fewer dimension. So its shape will become (1, 3).\n",
    "\n",
    "#### Now the shapes match and hence they can be added"
   ]
  },
  {
   "cell_type": "code",
   "execution_count": null,
   "id": "2b2d7bd5",
   "metadata": {},
   "outputs": [],
   "source": [
    "arr1 + arr2"
   ]
  },
  {
   "cell_type": "code",
   "execution_count": null,
   "id": "75f0b0e4",
   "metadata": {},
   "outputs": [],
   "source": [
    "arr3 = np.ones((4, 3), dtype=np.int8)"
   ]
  },
  {
   "cell_type": "markdown",
   "id": "33335d4c",
   "metadata": {},
   "source": [
    "`arr1` has shape (3,) so as per Rule 1, an extra 1 is padded to the left of `arr1` and hence its shape becomes (3, 1).\n",
    "As per Rule 2 the shapes do not match and so we stretch the `arr1` as it has 1 in its shape and check if the shapes of the two arays match after stretching. On stretching `arr1` becomes (4, 3) and the shapes match, hence they can be added."
   ]
  },
  {
   "cell_type": "code",
   "execution_count": null,
   "id": "81e60717",
   "metadata": {},
   "outputs": [],
   "source": [
    "arr3 + arr1"
   ]
  },
  {
   "cell_type": "code",
   "execution_count": null,
   "id": "c3d9a002",
   "metadata": {},
   "outputs": [],
   "source": [
    "arr4 = np.ones((3, 4), dtype=np.int8)"
   ]
  },
  {
   "cell_type": "markdown",
   "id": "0abb97f4",
   "metadata": {},
   "source": [
    "Here the shape of `arr1` after streching would become (3, 3) and the shape won't match to shape of `arr4`, throwing an error when arithmetic operation is performed."
   ]
  },
  {
   "cell_type": "code",
   "execution_count": null,
   "id": "5234159d",
   "metadata": {},
   "outputs": [],
   "source": [
    "arr4 + arr1"
   ]
  },
  {
   "cell_type": "code",
   "execution_count": null,
   "id": "435fa796",
   "metadata": {},
   "outputs": [],
   "source": [
    "arr1 = np.array([1, 2, 3])\n",
    "arr2 = np.array([1, 5, 3])"
   ]
  },
  {
   "cell_type": "code",
   "execution_count": null,
   "id": "f1669162",
   "metadata": {},
   "outputs": [],
   "source": [
    "arr1 != arr2"
   ]
  },
  {
   "cell_type": "code",
   "execution_count": null,
   "id": "1babc224",
   "metadata": {},
   "outputs": [],
   "source": [
    "arr1 <= arr2"
   ]
  },
  {
   "cell_type": "code",
   "execution_count": null,
   "id": "9a378d6d",
   "metadata": {},
   "outputs": [],
   "source": [
    "arr1 == arr2"
   ]
  },
  {
   "cell_type": "markdown",
   "id": "24e9b25c",
   "metadata": {},
   "source": [
    "**Finding the count of elements that match in `arr1` and `arr2` (located at same position in both the arrays).**"
   ]
  },
  {
   "cell_type": "code",
   "execution_count": null,
   "id": "93ce8764",
   "metadata": {},
   "outputs": [],
   "source": [
    "(arr1 == arr2).sum()"
   ]
  },
  {
   "cell_type": "markdown",
   "id": "3b5137de",
   "metadata": {},
   "source": [
    "## Indexing Numpy arrays"
   ]
  },
  {
   "cell_type": "code",
   "execution_count": null,
   "id": "8ed560d1",
   "metadata": {},
   "outputs": [],
   "source": [
    "arr = np.array([\n",
    "    [[11, 12, 13, 14], \n",
    "     [13, 14, 15, 19]], \n",
    "    \n",
    "    [[15, 16, 17, 21], \n",
    "     [63, 92, 36, 18]], \n",
    "    \n",
    "    [[98, 32, 81, 23],      \n",
    "     [17, 18, 19.5, 43]]\n",
    "])"
   ]
  },
  {
   "cell_type": "code",
   "execution_count": null,
   "id": "b13b89f5",
   "metadata": {},
   "outputs": [],
   "source": [
    "arr.shape"
   ]
  },
  {
   "cell_type": "code",
   "execution_count": null,
   "id": "558efba8",
   "metadata": {},
   "outputs": [],
   "source": [
    "arr[0, 0, 1] # should return 12"
   ]
  },
  {
   "cell_type": "code",
   "execution_count": null,
   "id": "2e611269",
   "metadata": {},
   "outputs": [],
   "source": [
    "arr[1:, 0:1, :2]"
   ]
  },
  {
   "cell_type": "code",
   "execution_count": null,
   "id": "c0c6f359",
   "metadata": {},
   "outputs": [],
   "source": [
    "arr[:2, 1]"
   ]
  },
  {
   "cell_type": "markdown",
   "id": "d03d6a55",
   "metadata": {},
   "source": [
    "## Different ways of creating Numpy arrays"
   ]
  },
  {
   "cell_type": "code",
   "execution_count": 34,
   "id": "23af1f63",
   "metadata": {},
   "outputs": [
    {
     "data": {
      "text/plain": [
       "array([[0., 0., 0.],\n",
       "       [0., 0., 0.]])"
      ]
     },
     "execution_count": 34,
     "metadata": {},
     "output_type": "execute_result"
    }
   ],
   "source": [
    "np.zeros((2, 3))"
   ]
  },
  {
   "cell_type": "code",
   "execution_count": 35,
   "id": "7ccc1e54",
   "metadata": {},
   "outputs": [
    {
     "data": {
      "text/plain": [
       "array([[1., 1., 1.],\n",
       "       [1., 1., 1.]])"
      ]
     },
     "execution_count": 35,
     "metadata": {},
     "output_type": "execute_result"
    }
   ],
   "source": [
    "np.ones((2, 3))"
   ]
  },
  {
   "cell_type": "code",
   "execution_count": 37,
   "id": "4eeadd92",
   "metadata": {},
   "outputs": [
    {
     "data": {
      "text/plain": [
       "array([[1., 0., 0.],\n",
       "       [0., 1., 0.],\n",
       "       [0., 0., 1.]])"
      ]
     },
     "execution_count": 37,
     "metadata": {},
     "output_type": "execute_result"
    }
   ],
   "source": [
    "np.identity(3)"
   ]
  },
  {
   "cell_type": "code",
   "execution_count": 44,
   "id": "16e20fe0",
   "metadata": {},
   "outputs": [
    {
     "data": {
      "text/plain": [
       "array([[1., 0., 0.],\n",
       "       [0., 1., 0.],\n",
       "       [0., 0., 1.]])"
      ]
     },
     "execution_count": 44,
     "metadata": {},
     "output_type": "execute_result"
    }
   ],
   "source": [
    "np.eye(3)"
   ]
  },
  {
   "cell_type": "code",
   "execution_count": 39,
   "id": "4369a5c7",
   "metadata": {},
   "outputs": [
    {
     "data": {
      "text/plain": [
       "array([0.13643569, 0.30579846, 0.43124065])"
      ]
     },
     "execution_count": 39,
     "metadata": {},
     "output_type": "execute_result"
    }
   ],
   "source": [
    "np.random.rand(3)"
   ]
  },
  {
   "cell_type": "code",
   "execution_count": 42,
   "id": "3a6e2ab0",
   "metadata": {},
   "outputs": [
    {
     "data": {
      "text/plain": [
       "array([[0.07965686, 0.22088801, 0.12338813],\n",
       "       [0.47103102, 0.9948478 , 0.57554972]])"
      ]
     },
     "execution_count": 42,
     "metadata": {},
     "output_type": "execute_result"
    }
   ],
   "source": [
    "np.random.rand(2, 3)"
   ]
  },
  {
   "cell_type": "code",
   "execution_count": 40,
   "id": "f0a89b39",
   "metadata": {},
   "outputs": [
    {
     "data": {
      "text/plain": [
       "array([3, 2, 5])"
      ]
     },
     "execution_count": 40,
     "metadata": {},
     "output_type": "execute_result"
    }
   ],
   "source": [
    "np.random.randint(2, 6, 3)"
   ]
  },
  {
   "cell_type": "code",
   "execution_count": 43,
   "id": "3476606a",
   "metadata": {},
   "outputs": [
    {
     "data": {
      "text/plain": [
       "array([[ 0.63363995,  2.32407959],\n",
       "       [-1.93527934, -0.18408843],\n",
       "       [-0.63033316, -0.27605805]])"
      ]
     },
     "execution_count": 43,
     "metadata": {},
     "output_type": "execute_result"
    }
   ],
   "source": [
    "np.random.randn(3, 2)"
   ]
  },
  {
   "cell_type": "markdown",
   "id": "21e05bd4",
   "metadata": {},
   "source": [
    "**`np.rand`** would return random numbers sampled from a uniform distribution between [0, 1). Let's say you pick 100 numbers at random then you would have 10 numbers between 0 and 0.1, 10 numbers between 0.1 and 0.2 and son on.\n",
    "\n",
    "**`np.randn`** would return random numbers from a Guassian normal distribution (the 68-95-99.7% rule)"
   ]
  },
  {
   "cell_type": "code",
   "execution_count": 51,
   "id": "cd2689ff",
   "metadata": {},
   "outputs": [
    {
     "data": {
      "text/plain": [
       "array([[44, 45],\n",
       "       [44, 45],\n",
       "       [44, 45],\n",
       "       [44, 45]])"
      ]
     },
     "execution_count": 51,
     "metadata": {},
     "output_type": "execute_result"
    }
   ],
   "source": [
    "# Create an array with fixed value by providing shape\n",
    "\n",
    "np.full((4, 2), [44, 45]) # shape = (4, 2) and fixed value = [44, 45]"
   ]
  },
  {
   "cell_type": "code",
   "execution_count": 59,
   "id": "5914fab5",
   "metadata": {},
   "outputs": [
    {
     "data": {
      "text/plain": [
       "array([2, 4, 6, 8])"
      ]
     },
     "execution_count": 59,
     "metadata": {},
     "output_type": "execute_result"
    }
   ],
   "source": [
    "np.arange(2, 10, 2)"
   ]
  },
  {
   "cell_type": "code",
   "execution_count": 61,
   "id": "4dc86ed2",
   "metadata": {},
   "outputs": [
    {
     "data": {
      "text/plain": [
       "array([[ 1,  2,  3,  4,  5],\n",
       "       [ 6,  7,  8,  9, 10]])"
      ]
     },
     "execution_count": 61,
     "metadata": {},
     "output_type": "execute_result"
    }
   ],
   "source": [
    "np.arange(1, 11, 1).reshape(2, 5)"
   ]
  },
  {
   "cell_type": "code",
   "execution_count": 58,
   "id": "a5e4b8ad",
   "metadata": {},
   "outputs": [
    {
     "data": {
      "text/plain": [
       "array([ 1,  3,  5,  7, 10], dtype=int8)"
      ]
     },
     "execution_count": 58,
     "metadata": {},
     "output_type": "execute_result"
    }
   ],
   "source": [
    "np.linspace(1, 10, 5, dtype=np.int8)"
   ]
  },
  {
   "cell_type": "code",
   "execution_count": 64,
   "id": "89bc1cc3",
   "metadata": {},
   "outputs": [
    {
     "data": {
      "text/plain": [
       "array([[ 1, 11],\n",
       "       [ 2, 12],\n",
       "       [ 3, 13],\n",
       "       [ 4, 14],\n",
       "       [ 5, 15],\n",
       "       [ 6, 16],\n",
       "       [ 7, 17],\n",
       "       [ 8, 18],\n",
       "       [ 9, 19],\n",
       "       [10, 20]], dtype=int8)"
      ]
     },
     "execution_count": 64,
     "metadata": {},
     "output_type": "execute_result"
    }
   ],
   "source": [
    "np.linspace([1, 11], [10, 20], 10, dtype=np.int8)"
   ]
  }
 ],
 "metadata": {
  "kernelspec": {
   "display_name": "Python 3 (ipykernel)",
   "language": "python",
   "name": "python3"
  },
  "language_info": {
   "codemirror_mode": {
    "name": "ipython",
    "version": 3
   },
   "file_extension": ".py",
   "mimetype": "text/x-python",
   "name": "python",
   "nbconvert_exporter": "python",
   "pygments_lexer": "ipython3",
   "version": "3.7.4"
  }
 },
 "nbformat": 4,
 "nbformat_minor": 5
}
