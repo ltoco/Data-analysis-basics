{
 "cells": [
  {
   "cell_type": "code",
   "execution_count": 1,
   "id": "ce32ad1d",
   "metadata": {},
   "outputs": [],
   "source": [
    "import numpy as np"
   ]
  },
  {
   "cell_type": "markdown",
   "id": "0c76ed2f",
   "metadata": {},
   "source": [
    "#### Comparing numpy with python data structures like list"
   ]
  },
  {
   "cell_type": "code",
   "execution_count": 2,
   "id": "a6346e71",
   "metadata": {},
   "outputs": [],
   "source": [
    "arr1 = list(range(1000000))\n",
    "arr2 = list(range(1000000, 2000000))"
   ]
  },
  {
   "cell_type": "code",
   "execution_count": 3,
   "id": "77bf9fc9",
   "metadata": {},
   "outputs": [],
   "source": [
    "def dot_product(arr1, arr2):\n",
    "    sum = 0\n",
    "    for a, b in zip(arr1, arr2):\n",
    "        sum += a * b\n",
    "    return sum"
   ]
  },
  {
   "cell_type": "code",
   "execution_count": 4,
   "id": "746e3de3",
   "metadata": {},
   "outputs": [
    {
     "name": "stdout",
     "output_type": "stream",
     "text": [
      "Wall time: 305 ms\n"
     ]
    },
    {
     "data": {
      "text/plain": [
       "833332333333500000"
      ]
     },
     "execution_count": 4,
     "metadata": {},
     "output_type": "execute_result"
    }
   ],
   "source": [
    "%%time\n",
    "dot_product(arr1, arr2)"
   ]
  },
  {
   "cell_type": "code",
   "execution_count": 5,
   "id": "66aeb41a",
   "metadata": {},
   "outputs": [],
   "source": [
    "# below we create numpy array by specifying dtype as int64 because  by default on a 64 bit machine, numpy create a integer of\n",
    "# 32 bit and it doesn't take care of integer overflow for large integers nd you would get incorrect answer\n",
    "\n",
    "# SO link - https://stackoverflow.com/questions/50671172/numpy-dot-giving-incorrect-answer-for-large-integers\n",
    "\n",
    "# To confirm execute below statement - \n",
    "# np.array([1, 2, 3]).dtype\n",
    "# If it returns dtype('int32') then specifying dtype is required else not needed\n",
    "\n",
    "np_arr1 = np.array(arr1, dtype=np.int64)\n",
    "np_arr2 = np.array(arr2, dtype=np.int64)"
   ]
  },
  {
   "cell_type": "markdown",
   "id": "f5ae7498",
   "metadata": {},
   "source": [
    "### `np.dot` performs element wise multiplication"
   ]
  },
  {
   "cell_type": "code",
   "execution_count": 6,
   "id": "3028dca1",
   "metadata": {},
   "outputs": [
    {
     "name": "stdout",
     "output_type": "stream",
     "text": [
      "Wall time: 1.96 ms\n"
     ]
    },
    {
     "data": {
      "text/plain": [
       "833332333333500000"
      ]
     },
     "execution_count": 6,
     "metadata": {},
     "output_type": "execute_result"
    }
   ],
   "source": [
    "%%time\n",
    "np.dot(np_arr1, np_arr2)"
   ]
  },
  {
   "cell_type": "markdown",
   "id": "d571b4fc",
   "metadata": {},
   "source": [
    "#### We can see that the time taken by list is quite more as compared to numpy arrays"
   ]
  },
  {
   "cell_type": "code",
   "execution_count": 7,
   "id": "406cbb29",
   "metadata": {},
   "outputs": [
    {
     "name": "stdout",
     "output_type": "stream",
     "text": [
      "Wall time: 8.99 ms\n"
     ]
    },
    {
     "data": {
      "text/plain": [
       "833332333333500000"
      ]
     },
     "execution_count": 7,
     "metadata": {},
     "output_type": "execute_result"
    }
   ],
   "source": [
    "%%time\n",
    "(np_arr1 * np_arr2).sum()"
   ]
  },
  {
   "cell_type": "markdown",
   "id": "ed470870",
   "metadata": {},
   "source": [
    "### The numpy array can store only a single type of data to make computation faster"
   ]
  },
  {
   "cell_type": "markdown",
   "id": "fbd5386d",
   "metadata": {},
   "source": [
    "Suppose we have to calculate the final temperature of different cities and let us assume that it depends on 3 factors f1, f2, f3. We have 3 cities Pune, Mumbai and Bangalore, also these 3 factors have pre-defined weights w1, w2 and w3 which have fixed values."
   ]
  },
  {
   "cell_type": "code",
   "execution_count": 8,
   "id": "333486bd",
   "metadata": {},
   "outputs": [],
   "source": [
    "w1, w2, w3 = 0.1, 0.2, 0.3"
   ]
  },
  {
   "cell_type": "code",
   "execution_count": 9,
   "id": "936a7036",
   "metadata": {},
   "outputs": [],
   "source": [
    "pune = [10, 20, 30]\n",
    "mumbai = [11, 12, 13]\n",
    "bangalore = [12, 13, 14]"
   ]
  },
  {
   "cell_type": "code",
   "execution_count": 10,
   "id": "1b5eb155",
   "metadata": {},
   "outputs": [
    {
     "data": {
      "text/plain": [
       "14.0"
      ]
     },
     "execution_count": 10,
     "metadata": {},
     "output_type": "execute_result"
    }
   ],
   "source": [
    "pune_temp = pune[0] * w1 + pune[1] * w2 + pune[2] * w3 # similarly we calculate the rest\n",
    "pune_temp"
   ]
  },
  {
   "cell_type": "markdown",
   "id": "3c89fdc4",
   "metadata": {},
   "source": [
    "We can simplify this by using numpy arrays"
   ]
  },
  {
   "cell_type": "code",
   "execution_count": 11,
   "id": "576106b4",
   "metadata": {},
   "outputs": [],
   "source": [
    "w = [0.1, 0.2, 0.3]\n",
    "city_data = [pune, mumbai, bangalore]\n",
    "\n",
    "# Creating numpy arrays\n",
    "np_w = np.array(w)\n",
    "np_city_data = np.array(city_data)"
   ]
  },
  {
   "cell_type": "markdown",
   "id": "1d0f0fef",
   "metadata": {},
   "source": [
    "#### We will use matrix multiplication to simplufy the process, using `np.matmul` reduces it to one line of code. We can also use `@` to perform matrix multiplication"
   ]
  },
  {
   "cell_type": "code",
   "execution_count": 12,
   "id": "d552882e",
   "metadata": {},
   "outputs": [
    {
     "data": {
      "text/plain": [
       "array([14. ,  7.4,  8. ])"
      ]
     },
     "execution_count": 12,
     "metadata": {},
     "output_type": "execute_result"
    }
   ],
   "source": [
    "np.matmul(np_city_data, np_w)"
   ]
  },
  {
   "cell_type": "code",
   "execution_count": 13,
   "id": "586444de",
   "metadata": {},
   "outputs": [
    {
     "data": {
      "text/plain": [
       "array([14. ,  7.4,  8. ])"
      ]
     },
     "execution_count": 13,
     "metadata": {},
     "output_type": "execute_result"
    }
   ],
   "source": [
    "np_city_data @ np_w"
   ]
  },
  {
   "cell_type": "markdown",
   "id": "991fcaae",
   "metadata": {},
   "source": [
    "## Reading data from files"
   ]
  },
  {
   "cell_type": "code",
   "execution_count": 14,
   "id": "cd10436b",
   "metadata": {},
   "outputs": [
    {
     "data": {
      "text/plain": [
       "('climate.txt', <http.client.HTTPMessage at 0x2429b164a08>)"
      ]
     },
     "execution_count": 14,
     "metadata": {},
     "output_type": "execute_result"
    }
   ],
   "source": [
    "from urllib.request import urlretrieve\n",
    "\n",
    "# The file would to downloaded to pwd (present working directory)\n",
    "urlretrieve('https://hub.jovian.ml/wp-content/uploads/2020/08/climate.csv', 'climate.txt')"
   ]
  },
  {
   "cell_type": "code",
   "execution_count": 15,
   "id": "78878d0d",
   "metadata": {},
   "outputs": [],
   "source": [
    "np_climate_data = np.genfromtxt('climate.txt', delimiter=',', skip_header=1)"
   ]
  },
  {
   "cell_type": "code",
   "execution_count": 16,
   "id": "c52992cb",
   "metadata": {},
   "outputs": [
    {
     "data": {
      "text/plain": [
       "(10000, 3)"
      ]
     },
     "execution_count": 16,
     "metadata": {},
     "output_type": "execute_result"
    }
   ],
   "source": [
    "np_climate_data.shape"
   ]
  },
  {
   "cell_type": "code",
   "execution_count": 17,
   "id": "35171550",
   "metadata": {},
   "outputs": [
    {
     "data": {
      "text/plain": [
       "array([[25., 76., 99.],\n",
       "       [39., 65., 70.],\n",
       "       [59., 45., 77.],\n",
       "       [84., 63., 38.],\n",
       "       [66., 50., 52.]])"
      ]
     },
     "execution_count": 17,
     "metadata": {},
     "output_type": "execute_result"
    }
   ],
   "source": [
    "np_climate_data[:5]"
   ]
  },
  {
   "cell_type": "code",
   "execution_count": 18,
   "id": "6a9a0ab5",
   "metadata": {},
   "outputs": [
    {
     "data": {
      "text/plain": [
       "(10000,)"
      ]
     },
     "execution_count": 18,
     "metadata": {},
     "output_type": "execute_result"
    }
   ],
   "source": [
    "np_temp_data = np.matmul(np_climate_data, np_w)\n",
    "np_temp_data.shape"
   ]
  },
  {
   "cell_type": "markdown",
   "id": "32c923a1",
   "metadata": {},
   "source": [
    "Now we want to add temperature to the climate array and then finally save it to a file"
   ]
  },
  {
   "cell_type": "markdown",
   "id": "103cebac",
   "metadata": {},
   "source": [
    "### `np.concatenate` would concatenate multiple arrays but they need to have same number of dimensions and same length.\n",
    "In our below example we reshape the array so that it also has 2 dimensions + we ensure that it has same length as the other array."
   ]
  },
  {
   "cell_type": "code",
   "execution_count": 19,
   "id": "1791b73b",
   "metadata": {},
   "outputs": [],
   "source": [
    "# We do reshape(-1, 1) as we don't care about how many rows we have but we want to have just 1 column (a column array).\n",
    "# Here we need not specify the number of rows, it picks it up on its own.\n",
    "\n",
    "climate_val = np.concatenate((np_climate_data, np_temp_data.reshape(-1, 1)), axis=1)\n",
    "# np.concatenate((np_climate_data, np_temp_data.reshape(10000, 1)), axis=1)"
   ]
  },
  {
   "cell_type": "code",
   "execution_count": 20,
   "id": "919d1fbb",
   "metadata": {},
   "outputs": [
    {
     "data": {
      "text/plain": [
       "(10000, 4)"
      ]
     },
     "execution_count": 20,
     "metadata": {},
     "output_type": "execute_result"
    }
   ],
   "source": [
    "climate_val.shape"
   ]
  },
  {
   "cell_type": "code",
   "execution_count": 21,
   "id": "705e3ce2",
   "metadata": {},
   "outputs": [],
   "source": [
    "np.savetxt('climate_value.txt', climate_val, fmt='%.2f', header='factor1, factor2, factor3, temperature')"
   ]
  },
  {
   "cell_type": "markdown",
   "id": "cfde6374",
   "metadata": {},
   "source": [
    "## Arithmetic operations"
   ]
  },
  {
   "cell_type": "code",
   "execution_count": 25,
   "id": "cc01186a",
   "metadata": {},
   "outputs": [],
   "source": [
    "arith_arr1 = np.array([[1, 2, 3],\n",
    "                      [4, 5, 6],\n",
    "                      [6, 7, 8]])"
   ]
  },
  {
   "cell_type": "code",
   "execution_count": 26,
   "id": "5884d9a9",
   "metadata": {},
   "outputs": [
    {
     "data": {
      "text/plain": [
       "array([[ 4,  5,  6],\n",
       "       [ 7,  8,  9],\n",
       "       [ 9, 10, 11]])"
      ]
     },
     "execution_count": 26,
     "metadata": {},
     "output_type": "execute_result"
    }
   ],
   "source": [
    "arith_arr1 + 3"
   ]
  },
  {
   "cell_type": "code",
   "execution_count": 27,
   "id": "c26b3a08",
   "metadata": {},
   "outputs": [],
   "source": [
    "arith_arr2 = np.array([[10, 11, 12],\n",
    "                       [13, 14, 15],\n",
    "                       [16, 17, 18]])"
   ]
  },
  {
   "cell_type": "code",
   "execution_count": 28,
   "id": "6572fd85",
   "metadata": {},
   "outputs": [
    {
     "data": {
      "text/plain": [
       "array([[11, 13, 15],\n",
       "       [17, 19, 21],\n",
       "       [22, 24, 26]])"
      ]
     },
     "execution_count": 28,
     "metadata": {},
     "output_type": "execute_result"
    }
   ],
   "source": [
    "arith_arr1 + arith_arr2"
   ]
  },
  {
   "cell_type": "markdown",
   "id": "d40dbccb",
   "metadata": {},
   "source": [
    "Similarly we can do subtraction, multiplication, division, modulo etc"
   ]
  },
  {
   "cell_type": "markdown",
   "id": "6dedfeb5",
   "metadata": {},
   "source": [
    "### Broadcasting\n",
    "\n",
    "Numpy arrays support broadcasting which allows arithmetic operations to be performed on arrays with different but compatible dimensions."
   ]
  },
  {
   "cell_type": "code",
   "execution_count": 30,
   "id": "7d6d4206",
   "metadata": {},
   "outputs": [],
   "source": [
    "x = np.arange(3)"
   ]
  },
  {
   "cell_type": "code",
   "execution_count": 31,
   "id": "d2b60984",
   "metadata": {},
   "outputs": [
    {
     "data": {
      "text/plain": [
       "array([0, 1, 2])"
      ]
     },
     "execution_count": 31,
     "metadata": {},
     "output_type": "execute_result"
    }
   ],
   "source": [
    "x"
   ]
  },
  {
   "cell_type": "code",
   "execution_count": 32,
   "id": "b9079707",
   "metadata": {},
   "outputs": [
    {
     "data": {
      "text/plain": [
       "(3,)"
      ]
     },
     "execution_count": 32,
     "metadata": {},
     "output_type": "execute_result"
    }
   ],
   "source": [
    "x.shape"
   ]
  },
  {
   "cell_type": "markdown",
   "id": "e6803f0c",
   "metadata": {},
   "source": [
    "### `np.newaxis` is a pusedo-index allows temporary addition of a new axis into an array, \n",
    "### a convinient alias for `None`\n",
    "\n"
   ]
  },
  {
   "cell_type": "code",
   "execution_count": 38,
   "id": "eee405a1",
   "metadata": {},
   "outputs": [
    {
     "data": {
      "text/plain": [
       "array([[0],\n",
       "       [1],\n",
       "       [2]])"
      ]
     },
     "execution_count": 38,
     "metadata": {},
     "output_type": "execute_result"
    }
   ],
   "source": [
    "x[:, np.newaxis] # new column axis is added and hence shape of array is changed"
   ]
  },
  {
   "cell_type": "code",
   "execution_count": 37,
   "id": "9d3d753b",
   "metadata": {},
   "outputs": [
    {
     "data": {
      "text/plain": [
       "array([[[0]],\n",
       "\n",
       "       [[1]],\n",
       "\n",
       "       [[2]]])"
      ]
     },
     "execution_count": 37,
     "metadata": {},
     "output_type": "execute_result"
    }
   ],
   "source": [
    "x[:, np.newaxis, np.newaxis].shape\n",
    "\n",
    "x[:, np.newaxis, np.newaxis]"
   ]
  },
  {
   "cell_type": "code",
   "execution_count": 46,
   "id": "b23beaa1",
   "metadata": {},
   "outputs": [
    {
     "data": {
      "text/plain": [
       "(3, 1)"
      ]
     },
     "execution_count": 46,
     "metadata": {},
     "output_type": "execute_result"
    }
   ],
   "source": [
    "x[:, None].shape # None can also be used in place of newaxis"
   ]
  },
  {
   "cell_type": "markdown",
   "id": "6bad2e2c",
   "metadata": {},
   "source": [
    "### `np.newaxis` vs `np.reshape`\n",
    "`np.newaxis` can also be used when you have more than 1 unknown dimension to operate with\n",
    "`np.arange(5)[:, np.newaxis, np.newaxis]` will work but `np.arange(5).reshape(-1, 1, -1)` will throw an error - `ValueError: can only specify one unknown dimension`"
   ]
  },
  {
   "cell_type": "code",
   "execution_count": 48,
   "id": "62918673",
   "metadata": {},
   "outputs": [
    {
     "data": {
      "text/plain": [
       "array([[[0]],\n",
       "\n",
       "       [[1]],\n",
       "\n",
       "       [[2]],\n",
       "\n",
       "       [[3]],\n",
       "\n",
       "       [[4]]])"
      ]
     },
     "execution_count": 48,
     "metadata": {},
     "output_type": "execute_result"
    }
   ],
   "source": [
    "np.arange(5)[:, np.newaxis, np.newaxis]"
   ]
  },
  {
   "cell_type": "code",
   "execution_count": 53,
   "id": "373a78ef",
   "metadata": {},
   "outputs": [
    {
     "ename": "ValueError",
     "evalue": "can only specify one unknown dimension",
     "output_type": "error",
     "traceback": [
      "\u001b[1;31m---------------------------------------------------------------------------\u001b[0m",
      "\u001b[1;31mValueError\u001b[0m                                Traceback (most recent call last)",
      "\u001b[1;32m~\\AppData\\Local\\Temp/ipykernel_7792/1167461579.py\u001b[0m in \u001b[0;36m<module>\u001b[1;34m\u001b[0m\n\u001b[1;32m----> 1\u001b[1;33m \u001b[0mnp\u001b[0m\u001b[1;33m.\u001b[0m\u001b[0marange\u001b[0m\u001b[1;33m(\u001b[0m\u001b[1;36m5\u001b[0m\u001b[1;33m)\u001b[0m\u001b[1;33m.\u001b[0m\u001b[0mreshape\u001b[0m\u001b[1;33m(\u001b[0m\u001b[1;33m-\u001b[0m\u001b[1;36m1\u001b[0m\u001b[1;33m,\u001b[0m \u001b[1;36m1\u001b[0m\u001b[1;33m,\u001b[0m \u001b[1;33m-\u001b[0m\u001b[1;36m1\u001b[0m\u001b[1;33m)\u001b[0m\u001b[1;33m\u001b[0m\u001b[1;33m\u001b[0m\u001b[0m\n\u001b[0m",
      "\u001b[1;31mValueError\u001b[0m: can only specify one unknown dimension"
     ]
    }
   ],
   "source": [
    "np.arange(5).reshape(-1, 1, -1)"
   ]
  },
  {
   "cell_type": "code",
   "execution_count": null,
   "id": "61658429",
   "metadata": {},
   "outputs": [],
   "source": []
  }
 ],
 "metadata": {
  "kernelspec": {
   "display_name": "Python 3 (ipykernel)",
   "language": "python",
   "name": "python3"
  },
  "language_info": {
   "codemirror_mode": {
    "name": "ipython",
    "version": 3
   },
   "file_extension": ".py",
   "mimetype": "text/x-python",
   "name": "python",
   "nbconvert_exporter": "python",
   "pygments_lexer": "ipython3",
   "version": "3.7.4"
  }
 },
 "nbformat": 4,
 "nbformat_minor": 5
}
